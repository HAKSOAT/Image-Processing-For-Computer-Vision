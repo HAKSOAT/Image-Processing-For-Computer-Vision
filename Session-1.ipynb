{
 "cells": [
  {
   "cell_type": "code",
   "execution_count": 1,
   "metadata": {},
   "outputs": [],
   "source": [
    "import cv2\n",
    "import numpy as np"
   ]
  },
  {
   "cell_type": "markdown",
   "metadata": {},
   "source": [
    "# Reading Images In OpenCV"
   ]
  },
  {
   "cell_type": "code",
   "execution_count": 38,
   "metadata": {},
   "outputs": [],
   "source": [
    "diseased_leaf = cv2.imread(\"images/diseased-leaf.jpg\")"
   ]
  },
  {
   "cell_type": "markdown",
   "metadata": {},
   "source": [
    "# Colour Mode Conversion"
   ]
  },
  {
   "cell_type": "code",
   "execution_count": 39,
   "metadata": {},
   "outputs": [],
   "source": [
    "diseased_leaf_rgb = cv2.cvtColor(diseased_leaf, cv2.COLOR_BGR2RGB)\n",
    "diseased_leaf_hsv = cv2.cvtColor(diseased_leaf, cv2.COLOR_BGR2HSV)\n",
    "diseased_leaf_grayscale = cv2.cvtColor(diseased_leaf, cv2.COLOR_BGR2GRAY)"
   ]
  },
  {
   "cell_type": "markdown",
   "metadata": {},
   "source": [
    "# Displaying Images"
   ]
  },
  {
   "cell_type": "code",
   "execution_count": 4,
   "metadata": {},
   "outputs": [],
   "source": [
    "cv2.namedWindow('Leaf', cv2.WINDOW_NORMAL)\n",
    "cv2.imshow('Leaf', diseased_leaf)\n",
    "cv2.waitKey(5000)\n",
    "cv2.imshow('Leaf', diseased_leaf_rgb)\n",
    "cv2.waitKey(5000)\n",
    "cv2.imshow('Leaf', diseased_leaf_hsv)\n",
    "cv2.waitKey(5000)\n",
    "cv2.imshow('Leaf', diseased_leaf_grayscale)\n",
    "cv2.waitKey(5000)\n",
    "cv2.destroyAllWindows()"
   ]
  },
  {
   "cell_type": "code",
   "execution_count": 4,
   "metadata": {},
   "outputs": [],
   "source": [
    "def display(window_name, image, wait_time):\n",
    "    cv2.namedWindow(window_name, cv2.WINDOW_NORMAL)\n",
    "    cv2.imshow(window_name, image)\n",
    "    cv2.waitKey(wait_time)\n",
    "    cv2.destroyAllWindows()"
   ]
  },
  {
   "cell_type": "markdown",
   "metadata": {},
   "source": [
    "# Stacking Images Horizontally"
   ]
  },
  {
   "cell_type": "code",
   "execution_count": 6,
   "metadata": {},
   "outputs": [],
   "source": [
    "leaf_varieties_horizontal = np.hstack((diseased_leaf, diseased_leaf_rgb, diseased_leaf_hsv))\n",
    "display(\"Leaf Varieties\", leaf_varieties_horizontal, 0)"
   ]
  },
  {
   "cell_type": "code",
   "execution_count": 40,
   "metadata": {},
   "outputs": [],
   "source": [
    "display(\"Leaf Varieties-Grayscale\", diseased_leaf_grayscale, 0)"
   ]
  },
  {
   "cell_type": "markdown",
   "metadata": {},
   "source": [
    "# Stacking Images Vertically"
   ]
  },
  {
   "cell_type": "code",
   "execution_count": 8,
   "metadata": {},
   "outputs": [],
   "source": [
    "leaf_varieties_horizontal = np.vstack((diseased_leaf, diseased_leaf_rgb, diseased_leaf_hsv))\n",
    "display(\"Leaf Varieties\", leaf_varieties_horizontal, 0)"
   ]
  },
  {
   "cell_type": "markdown",
   "metadata": {},
   "source": [
    "# Cropping Images"
   ]
  },
  {
   "cell_type": "code",
   "execution_count": 27,
   "metadata": {},
   "outputs": [
    {
     "name": "stdout",
     "output_type": "stream",
     "text": [
      "(619, 495, 3)\n"
     ]
    }
   ],
   "source": [
    "x = cv2.imread(\"images/x.jpeg\")\n",
    "print(x.shape)"
   ]
  },
  {
   "cell_type": "code",
   "execution_count": 28,
   "metadata": {},
   "outputs": [],
   "source": [
    "x_eyes = x.copy()\n",
    "x_eyes = x_eyes[230:350, :]\n",
    "display(\"Cropped\", x_eyes, 5000)"
   ]
  },
  {
   "cell_type": "code",
   "execution_count": 34,
   "metadata": {},
   "outputs": [],
   "source": [
    "x_mouth = x.copy()\n",
    "x_mouth = x_mouth[400:500, :]\n",
    "display(\"Cropped\", x_mouth, 5000)"
   ]
  },
  {
   "cell_type": "markdown",
   "metadata": {},
   "source": [
    "# Use Case"
   ]
  },
  {
   "cell_type": "code",
   "execution_count": 35,
   "metadata": {},
   "outputs": [],
   "source": [
    "lotion = cv2.imread(\"images/lotion.jpg\")"
   ]
  },
  {
   "cell_type": "code",
   "execution_count": 36,
   "metadata": {},
   "outputs": [],
   "source": [
    "display(\"Lotion\", lotion, 5000)"
   ]
  },
  {
   "cell_type": "markdown",
   "metadata": {},
   "source": [
    "# Image Thresholding"
   ]
  },
  {
   "cell_type": "code",
   "execution_count": 78,
   "metadata": {},
   "outputs": [],
   "source": [
    "black_white_transition = cv2.imread('images/black-white-transition.png')\n",
    "_, black_white = cv2.threshold(black_white_transition,127,255,cv2.THRESH_BINARY)\n",
    "display(\"Black White Transition\", black_white_transition, 0)\n",
    "display(\"Black White\", black_white, 0)"
   ]
  },
  {
   "cell_type": "markdown",
   "metadata": {},
   "source": [
    "# Use Case"
   ]
  },
  {
   "cell_type": "code",
   "execution_count": 7,
   "metadata": {},
   "outputs": [],
   "source": [
    "image = cv2.imread('images/leaf-threshold.jpg')\n",
    "\n",
    "grayscale = cv2.cvtColor(leaf, cv2.COLOR_BGR2GRAY)\n",
    "\n",
    "_, binary_threshold = cv2.threshold(grayscale,127,255,cv2.THRESH_BINARY)\n",
    "\n",
    "adaptive_mean_threshold = cv2.adaptiveThreshold(grayscale,255,cv2.ADAPTIVE_THRESH_MEAN_C,\\\n",
    "            cv2.THRESH_BINARY,11,2)\n",
    "\n",
    "adaptive_guassian_threshold = cv2.adaptiveThreshold(grayscale,255,cv2.ADAPTIVE_THRESH_GAUSSIAN_C,\\\n",
    "            cv2.THRESH_BINARY,11,2)\n",
    " \n",
    "titles = ['Original Image', 'Global Thresholding',\n",
    "            'Adaptive Mean Thresholding', 'Adaptive Gaussian Thresholding']\n",
    "\n",
    "images = [image, grayscale, binary_threshold, adaptive_mean_threshold, adaptive_guassian_threshold]\n",
    "\n",
    "for i in range(4):\n",
    "    display(\"Leafs\", images[i], 7000)"
   ]
  },
  {
   "cell_type": "code",
   "execution_count": 5,
   "metadata": {},
   "outputs": [],
   "source": [
    "leaf = cv2.imread('leaf-threshold.jpg')\n",
    "\n",
    "grayscale = cv2.cvtColor(leaf, cv2.COLOR_BGR2GRAY)\n",
    "\n",
    "adaptive_mean_threshold_inv = cv2.adaptiveThreshold(grayscale,255,cv2.ADAPTIVE_THRESH_MEAN_C,\\\n",
    "            cv2.THRESH_BINARY_INV,11,2)\n",
    "\n",
    "leaf_segment = cv2.bitwise_and(grayscale, grayscale, mask = \n",
    "                               adaptive_mean_threshold_inv)\n",
    "\n",
    "display(\"Leaf Segment\", leaf_segment, 0)"
   ]
  }
 ],
 "metadata": {
  "kernelspec": {
   "display_name": "Python 3",
   "language": "python",
   "name": "python3"
  },
  "language_info": {
   "codemirror_mode": {
    "name": "ipython",
    "version": 3
   },
   "file_extension": ".py",
   "mimetype": "text/x-python",
   "name": "python",
   "nbconvert_exporter": "python",
   "pygments_lexer": "ipython3",
   "version": "3.7.3"
  }
 },
 "nbformat": 4,
 "nbformat_minor": 2
}
